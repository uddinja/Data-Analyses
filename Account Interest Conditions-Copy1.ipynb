{
 "cells": [
  {
   "cell_type": "raw",
   "metadata": {},
   "source": [
    "<script>\n",
    "  function code_toggle() {\n",
    "    if (code_shown){\n",
    "      $('div.input').hide('500');\n",
    "      $('#toggleButton').val('Show Code')\n",
    "    } else {\n",
    "      $('div.input').show('500');\n",
    "      $('#toggleButton').val('Hide Code')\n",
    "    }\n",
    "    code_shown = !code_shown\n",
    "  }\n",
    "\n",
    "  $( document ).ready(function(){\n",
    "    code_shown=false;\n",
    "    $('div.input').hide()\n",
    "  });\n",
    "</script>\n",
    "<form action=\"javascript:code_toggle()\"><input type=\"submit\" id=\"toggleButton\" value=\"Show Code\"></form>"
   ]
  },
  {
   "cell_type": "code",
   "execution_count": 4,
   "metadata": {
    "collapsed": false
   },
   "outputs": [],
   "source": [
    "import pandas as pd\n",
    "import numpy as np\n",
    "import glob\n",
    "import os\n",
    "\n",
    "import matplotlib.pyplot as plt \n",
    "from ipywidgets import widgets\n",
    "from IPython.display import display\n"
   ]
  },
  {
   "cell_type": "code",
   "execution_count": 5,
   "metadata": {
    "collapsed": false
   },
   "outputs": [],
   "source": [
    "os.chdir('T:/NA LMSC/Liquidity/Deposit Email/Python')"
   ]
  },
  {
   "cell_type": "code",
   "execution_count": 6,
   "metadata": {
    "collapsed": false
   },
   "outputs": [],
   "source": [
    "month = '_03_'\n",
    "year = '2018'\n",
    "path = year+month"
   ]
  },
  {
   "cell_type": "code",
   "execution_count": 7,
   "metadata": {
    "collapsed": false
   },
   "outputs": [],
   "source": [
    "CIO = pd.read_excel(path+\"CIO.xlsx\") "
   ]
  },
  {
   "cell_type": "code",
   "execution_count": 8,
   "metadata": {
    "collapsed": false
   },
   "outputs": [],
   "source": [
    "Flexcube = pd.read_excel(path+\"Flexcube.xlsx\") "
   ]
  },
  {
   "cell_type": "code",
   "execution_count": 9,
   "metadata": {
    "collapsed": true
   },
   "outputs": [],
   "source": [
    "ECR = pd.read_excel(path+\"ECR.xlsx\",skiprows=1) "
   ]
  },
  {
   "cell_type": "code",
   "execution_count": 10,
   "metadata": {
    "collapsed": true
   },
   "outputs": [],
   "source": [
    "Sweep = pd.read_excel(path+\"Sweep.xlsx\",skiprows=5) "
   ]
  },
  {
   "cell_type": "code",
   "execution_count": 11,
   "metadata": {
    "collapsed": true
   },
   "outputs": [],
   "source": [
    "SweepTiered = pd.read_excel(path+\"Sweep_Tiered_Pricing.xlsx\") "
   ]
  },
  {
   "cell_type": "code",
   "execution_count": 12,
   "metadata": {
    "collapsed": false
   },
   "outputs": [],
   "source": [
    "#Select Flexcube Account, GFCID, GFPID and create new dataframe with these values\n",
    "FlexAccounts = Flexcube[[\"ACCOUNT\",\"GFCID\",\"GFPID\"]]"
   ]
  },
  {
   "cell_type": "code",
   "execution_count": 13,
   "metadata": {
    "collapsed": false
   },
   "outputs": [],
   "source": [
    "#Select Sweep Account, GFCID and create new dataframe with these values\n",
    "SweepAccounts = Sweep[[\"Account\",\"GFCID\"]]"
   ]
  },
  {
   "cell_type": "code",
   "execution_count": 14,
   "metadata": {
    "collapsed": false
   },
   "outputs": [],
   "source": [
    "#IF INTRST_TYPE = M THEN Bracketing with Top Tier\n",
    "#    ELSE IF INTRST_TYPE = F THEN Bracketing\n",
    "#    ELSE IF INTRST_TYPE = I THEN Tiered"
   ]
  },
  {
   "cell_type": "code",
   "execution_count": 15,
   "metadata": {
    "collapsed": false
   },
   "outputs": [],
   "source": [
    "def sweepPricing(accountNumber):\n",
    "    SweepPricing = SweepTiered[[\"ACCT_NO\",\"INTRST_TYPE\",\"BINT_TYPE_COD\",\"THLD_AMT\",\"OFFSET_RT\"]]\n",
    "    SweepPricing = SweepPricing.fillna(\"999,999,999\")\n",
    "    return SweepPricing[(SweepPricing.ACCT_NO == accountNumber)];\n",
    "\n",
    "def interestConditions(accountNumber):\n",
    "    CIO_StructureAccount = pd.pivot_table(CIO,\n",
    "                          index=[\"XBNP_STRC_ID\",\"ACCT_NO\",\"INTRST_TIER_NO\"], \n",
    "                                     values = [\"THLD_AMT\"])\n",
    "    CIO_StructureAccount.reset_index(inplace=True)\n",
    "    lookup = CIO_StructureAccount.loc[CIO_StructureAccount['ACCT_NO'] == accountNumber, 'XBNP_STRC_ID'].iloc[0]\n",
    "    CIO_StructureAccountTiers = CIO_StructureAccount[[\"XBNP_STRC_ID\",\"INTRST_TIER_NO\", \"THLD_AMT\"]]\n",
    "    CIO_StructureAccountTiers = CIO_StructureAccountTiers.dropna()\n",
    "    return CIO_StructureAccountTiers.loc[CIO_StructureAccountTiers['XBNP_STRC_ID'] == lookup];\n",
    "\n",
    "def interestConditionsCIOacct (accountNumber):\n",
    "    CIOPricing = CIO[[\"ACCT_NO\",\"INTRST_TYPE\",\"BINT_TYPE_COD\",\"THLD_AMT\",\"OFFSET_RT\"]]\n",
    "    return CIOPricing.loc[(CIOPricing.THLD_AMT.isnull())& (CIOPricing['ACCT_NO'] == 30916845)];\n",
    "\n",
    "def interestConditionsIBDDA(accountNumber):\n",
    "    FlexPricing = Flexcube[[\"ACCOUNT\",\"GL_CDE\",\"MMDA_BASE_RATE\",\"MMDA_RATE_SPREAD\" ]]\n",
    "    return FlexPricing.loc[(FlexPricing.MMDA_BASE_RATE.notnull())& (FlexPricing['ACCOUNT'] == accountNumber)];\n"
   ]
  },
  {
   "cell_type": "code",
   "execution_count": 16,
   "metadata": {
    "collapsed": false
   },
   "outputs": [
    {
     "data": {
      "text/html": [
       "<div>\n",
       "<table border=\"1\" class=\"dataframe\">\n",
       "  <thead>\n",
       "    <tr style=\"text-align: right;\">\n",
       "      <th></th>\n",
       "      <th>XBNP_STRC_ID</th>\n",
       "      <th>INTRST_TIER_NO</th>\n",
       "      <th>THLD_AMT</th>\n",
       "    </tr>\n",
       "  </thead>\n",
       "  <tbody>\n",
       "    <tr>\n",
       "      <th>7628</th>\n",
       "      <td>20204</td>\n",
       "      <td>1</td>\n",
       "      <td>1.000000e+12</td>\n",
       "    </tr>\n",
       "    <tr>\n",
       "      <th>7629</th>\n",
       "      <td>20204</td>\n",
       "      <td>2</td>\n",
       "      <td>1.500000e+09</td>\n",
       "    </tr>\n",
       "  </tbody>\n",
       "</table>\n",
       "</div>"
      ],
      "text/plain": [
       "      XBNP_STRC_ID  INTRST_TIER_NO      THLD_AMT\n",
       "7628         20204               1  1.000000e+12\n",
       "7629         20204               2  1.500000e+09"
      ]
     },
     "execution_count": 16,
     "metadata": {},
     "output_type": "execute_result"
    }
   ],
   "source": [
    "interestConditions(30916845)"
   ]
  },
  {
   "cell_type": "code",
   "execution_count": 17,
   "metadata": {
    "collapsed": false
   },
   "outputs": [
    {
     "data": {
      "text/html": [
       "<div>\n",
       "<table border=\"1\" class=\"dataframe\">\n",
       "  <thead>\n",
       "    <tr style=\"text-align: right;\">\n",
       "      <th></th>\n",
       "      <th>ACCT_NO</th>\n",
       "      <th>INTRST_TYPE</th>\n",
       "      <th>BINT_TYPE_COD</th>\n",
       "      <th>THLD_AMT</th>\n",
       "      <th>OFFSET_RT</th>\n",
       "    </tr>\n",
       "  </thead>\n",
       "  <tbody>\n",
       "    <tr>\n",
       "      <th>9186</th>\n",
       "      <td>30916845</td>\n",
       "      <td>F</td>\n",
       "      <td>FED EFFECTIVE</td>\n",
       "      <td>NaN</td>\n",
       "      <td>-0.01</td>\n",
       "    </tr>\n",
       "    <tr>\n",
       "      <th>9187</th>\n",
       "      <td>30916845</td>\n",
       "      <td>F</td>\n",
       "      <td>FED EFFECTIVE</td>\n",
       "      <td>NaN</td>\n",
       "      <td>-0.05</td>\n",
       "    </tr>\n",
       "  </tbody>\n",
       "</table>\n",
       "</div>"
      ],
      "text/plain": [
       "       ACCT_NO INTRST_TYPE  BINT_TYPE_COD  THLD_AMT  OFFSET_RT\n",
       "9186  30916845           F  FED EFFECTIVE       NaN      -0.01\n",
       "9187  30916845           F  FED EFFECTIVE       NaN      -0.05"
      ]
     },
     "execution_count": 17,
     "metadata": {},
     "output_type": "execute_result"
    }
   ],
   "source": [
    "interestConditionsCIOacct(30916845)"
   ]
  },
  {
   "cell_type": "code",
   "execution_count": 18,
   "metadata": {
    "collapsed": false
   },
   "outputs": [
    {
     "data": {
      "text/html": [
       "<div>\n",
       "<table border=\"1\" class=\"dataframe\">\n",
       "  <thead>\n",
       "    <tr style=\"text-align: right;\">\n",
       "      <th></th>\n",
       "      <th>ACCT_NO</th>\n",
       "      <th>INTRST_TYPE</th>\n",
       "      <th>BINT_TYPE_COD</th>\n",
       "      <th>THLD_AMT</th>\n",
       "      <th>OFFSET_RT</th>\n",
       "    </tr>\n",
       "  </thead>\n",
       "  <tbody>\n",
       "    <tr>\n",
       "      <th>2123</th>\n",
       "      <td>36893779</td>\n",
       "      <td>F</td>\n",
       "      <td>USDZERO</td>\n",
       "      <td>1e+07</td>\n",
       "      <td>0.4</td>\n",
       "    </tr>\n",
       "    <tr>\n",
       "      <th>2124</th>\n",
       "      <td>36893779</td>\n",
       "      <td>F</td>\n",
       "      <td>FI_XSWP</td>\n",
       "      <td>999,999,999</td>\n",
       "      <td>0.0</td>\n",
       "    </tr>\n",
       "  </tbody>\n",
       "</table>\n",
       "</div>"
      ],
      "text/plain": [
       "       ACCT_NO INTRST_TYPE BINT_TYPE_COD     THLD_AMT  OFFSET_RT\n",
       "2123  36893779           F       USDZERO        1e+07        0.4\n",
       "2124  36893779           F       FI_XSWP  999,999,999        0.0"
      ]
     },
     "execution_count": 18,
     "metadata": {},
     "output_type": "execute_result"
    }
   ],
   "source": [
    "sweepPricing(36893779)"
   ]
  },
  {
   "cell_type": "code",
   "execution_count": 19,
   "metadata": {
    "collapsed": false
   },
   "outputs": [
    {
     "data": {
      "text/html": [
       "<div>\n",
       "<table border=\"1\" class=\"dataframe\">\n",
       "  <thead>\n",
       "    <tr style=\"text-align: right;\">\n",
       "      <th></th>\n",
       "      <th>ACCOUNT</th>\n",
       "      <th>GL_CDE</th>\n",
       "      <th>MMDA_BASE_RATE</th>\n",
       "      <th>MMDA_RATE_SPREAD</th>\n",
       "    </tr>\n",
       "  </thead>\n",
       "  <tbody>\n",
       "    <tr>\n",
       "      <th>17</th>\n",
       "      <td>25179</td>\n",
       "      <td>105</td>\n",
       "      <td>IBDDA</td>\n",
       "      <td>-0.06</td>\n",
       "    </tr>\n",
       "  </tbody>\n",
       "</table>\n",
       "</div>"
      ],
      "text/plain": [
       "    ACCOUNT  GL_CDE MMDA_BASE_RATE  MMDA_RATE_SPREAD\n",
       "17    25179     105          IBDDA             -0.06"
      ]
     },
     "execution_count": 19,
     "metadata": {},
     "output_type": "execute_result"
    }
   ],
   "source": [
    "interestConditionsIBDDA(25179)"
   ]
  },
  {
   "cell_type": "code",
   "execution_count": 1,
   "metadata": {
    "collapsed": true
   },
   "outputs": [],
   "source": [
    "from tkinter import *"
   ]
  },
  {
   "cell_type": "code",
   "execution_count": 51,
   "metadata": {
    "collapsed": true
   },
   "outputs": [],
   "source": [
    "root = Tk() #blank window\n",
    "#label = Label(root,text=\"Account Interest Conditions\")\n",
    "\n",
    "topFrame = Frame(root)\n",
    "topFrame.pack()\n",
    "bottomFrame = Frame(root)\n",
    "bottomFrame.pack(side=BOTTOM)\n",
    "\n",
    "button1 = Button(topFrame, text=\"Button 1\", fg=\"red\")\n",
    "button2 = Button(topFrame, text=\"Button 2\", fg=\"blue\")\n",
    "button3 = Button(topFrame, text=\"Button 3\", fg=\"green\")\n",
    "button4 = Button(bottomFrame, text=\"Button 4\", fg=\"purple\")\n",
    "\n",
    "button1.pack(side=LEFT)\n",
    "button2.pack(side=LEFT)\n",
    "button3.pack(side=LEFT)\n",
    "button4.pack(side=BOTTOM)\n",
    "\n",
    "\n",
    "\n",
    "root.mainloop()"
   ]
  },
  {
   "cell_type": "code",
   "execution_count": 50,
   "metadata": {
    "collapsed": false
   },
   "outputs": [],
   "source": [
    "root = Tk() #blank window\n",
    "one = Label(root,text=\"Account Interest Conditions\",bg=\"red\", fg=\"white\")\n",
    "one.pack()\n",
    "two = Label(root, text=\"Sweep\", bg=\"green\", fg=\"white\")\n",
    "two.pack(fill=X)\n",
    "three = Label(root, text=\"CIO\", bg=\"blue\", fg=\"white\")\n",
    "three.pack(side=LEFT, fill=Y)\n",
    "\n",
    "\n",
    "root.mainloop()"
   ]
  },
  {
   "cell_type": "code",
   "execution_count": 57,
   "metadata": {
    "collapsed": true
   },
   "outputs": [],
   "source": [
    "root = Tk() #blank window\n",
    "label_1 = Label(root,text=\"Name\")\n",
    "label_2 = Label(root,text=\"Password\")\n",
    "entry_1 = Entry(root)\n",
    "entry_2 = Entry(root)\n",
    "\n",
    "label_1.grid(row=0, column=0, sticky=E)\n",
    "label_2.grid(row=1, column=0, sticky=E)\n",
    "\n",
    "entry_1.grid(row=0, column=1)\n",
    "entry_2.grid(row=1, column=1)\n",
    "\n",
    "c = Checkbutton(root,text=\"Keep me logged in\")\n",
    "c.grid(columnspan=2)\n",
    "\n",
    "root.mainloop()"
   ]
  },
  {
   "cell_type": "code",
   "execution_count": 58,
   "metadata": {
    "collapsed": false
   },
   "outputs": [
    {
     "name": "stdout",
     "output_type": "stream",
     "text": [
      "My name is Jamil\n",
      "My name is Jamil\n",
      "My name is Jamil\n",
      "My name is Jamil\n"
     ]
    }
   ],
   "source": [
    "root = Tk() #blank window\n",
    "\n",
    "\n",
    "def printName():\n",
    "    print(\"My name is Jamil\")\n",
    "    \n",
    "button1= Button(root, text=\"Print my name\",command=printName)\n",
    "button1.pack()\n",
    "root.mainloop()"
   ]
  },
  {
   "cell_type": "code",
   "execution_count": 60,
   "metadata": {
    "collapsed": false
   },
   "outputs": [
    {
     "name": "stdout",
     "output_type": "stream",
     "text": [
      "My name is Jamil\n",
      "My name is Jamil\n",
      "My name is Jamil\n",
      "My name is Jamil\n",
      "My name is Jamil\n"
     ]
    }
   ],
   "source": [
    "root = Tk() #blank window\n",
    "\n",
    "\n",
    "def printName(event):\n",
    "    print(\"My name is Jamil\")\n",
    "    \n",
    "button1= Button(root, text=\"Print my name\")\n",
    "button1.bind(\"<Button-1>\", printName)\n",
    "button1.pack()\n",
    "root.mainloop()"
   ]
  },
  {
   "cell_type": "code",
   "execution_count": 2,
   "metadata": {
    "collapsed": false
   },
   "outputs": [],
   "source": [
    "class JamilsButtons:\n",
    "    \n",
    "    def __init__(self, master):\n",
    "        frame = Frame(master)\n",
    "        frame.pack()\n",
    "        \n",
    "        self.printButton = Button(frame,text=\"Print Message\", command=self.printMessage)\n",
    "        self.printButton.pack(side=LEFT)\n",
    "        \n",
    "        self.quitButton = Button(frame,text=\"Quit\", command =master.destroy)\n",
    "        self.quitButton.pack(side=LEFT)\n",
    "        \n",
    "    def printMessage(self):\n",
    "        print(\"This worked\")\n",
    "        \n",
    "\n",
    "\n",
    "root = Tk()\n",
    "b = JamilsButtons(root)\n",
    "root.mainloop()"
   ]
  },
  {
   "cell_type": "code",
   "execution_count": 3,
   "metadata": {
    "collapsed": true
   },
   "outputs": [],
   "source": [
    "import tkinter as tk\n",
    "from tkinter import messagebox\n",
    "\n",
    "class App(tk.Frame):\n",
    "\n",
    "    def __init__(self, master):\n",
    "        self.master = master\n",
    "\n",
    "        lbl1 = tk.Label(self.master, text = \"Enter 2 numbers to be added \\ntogether and click submit\")\n",
    "        lbl1.grid(row = 0, column = 0, columnspan = 3)\n",
    "\n",
    "        self.entry1 = tk.Entry(self.master, width = 5)\n",
    "        self.entry1.grid(row = 1, column = 0)\n",
    "\n",
    "        self.lbl2 = tk.Label(self.master, text = \"+\")\n",
    "        self.lbl2.grid(row = 1, column = 1)\n",
    "\n",
    "        self.entry2 = tk.Entry(self.master, width = 5)\n",
    "        self.entry2.grid(row = 1, column = 2)\n",
    "\n",
    "        btn1 = tk.Button(self.master, text = \"Submit\", command = self.add_numbers)\n",
    "        btn1.grid(row = 2, column = 1)\n",
    "\n",
    "        self.lbl3 = tk.Label(self.master, text = \"Sum = \")\n",
    "        self.lbl3.grid(row = 3, column = 1)\n",
    "\n",
    "        self.entry3 = tk.Entry(self.master, width = 10)\n",
    "        self.entry3.grid(row = 4, column = 1)\n",
    "\n",
    "        self.text1 = tk.Text(self.master, height = 1, width = 10)\n",
    "        self.text1.grid(row = 5, column = 1)\n",
    "\n",
    "    def add_numbers(self):\n",
    "\n",
    "        x = self.entry1.get()\n",
    "        y = self.entry2.get()\n",
    "\n",
    "        if x != \"\" and y != \"\":\n",
    "            sumxy = int(x) + int(y)\n",
    "\n",
    "            self.lbl3.config(text = \"Sum = {}\".format(sumxy))\n",
    "\n",
    "            self.entry3.delete(0, \"end\")\n",
    "            self.entry3.insert(0, sumxy)\n",
    "\n",
    "            self.text1.delete(1.0, \"end\")\n",
    "            self.text1.insert(1.0, sumxy)\n",
    "\n",
    "            messagebox.showinfo(\"Sum of {} and {}\".format(x,y), \n",
    "                                \"Sum of {} and {} = {}\".format(x, y, sumxy))\n",
    "\n",
    "\n",
    "if __name__ == \"__main__\":\n",
    "\n",
    "    root = tk.Tk()\n",
    "    myapp = App(root)\n",
    "    root.mainloop()"
   ]
  },
  {
   "cell_type": "code",
   "execution_count": null,
   "metadata": {
    "collapsed": true
   },
   "outputs": [],
   "source": []
  }
 ],
 "metadata": {
  "kernelspec": {
   "display_name": "Python 3",
   "language": "python",
   "name": "python3"
  },
  "language_info": {
   "codemirror_mode": {
    "name": "ipython",
    "version": 3
   },
   "file_extension": ".py",
   "mimetype": "text/x-python",
   "name": "python",
   "nbconvert_exporter": "python",
   "pygments_lexer": "ipython3",
   "version": "3.5.1"
  }
 },
 "nbformat": 4,
 "nbformat_minor": 0
}
