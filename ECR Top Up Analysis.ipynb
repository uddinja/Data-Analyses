{
 "cells": [
  {
   "cell_type": "markdown",
   "metadata": {},
   "source": [
    "# ECR Top Up Analysis\n",
    "\n",
    "## December 2017 Billing\n",
    "\n",
    "Feb 13, 2018"
   ]
  },
  {
   "cell_type": "code",
   "execution_count": null,
   "metadata": {
    "collapsed": true
   },
   "outputs": [],
   "source": [
    "<script>\n",
    "  function code_toggle() {\n",
    "    if (code_shown){\n",
    "      $('div.input').hide('500');\n",
    "      $('#toggleButton').val('Show Code')\n",
    "    } else {\n",
    "      $('div.input').show('500');\n",
    "      $('#toggleButton').val('Hide Code')\n",
    "    }\n",
    "    code_shown = !code_shown\n",
    "  }\n",
    "\n",
    "  $( document ).ready(function(){\n",
    "    code_shown=false;\n",
    "    $('div.input').hide()\n",
    "  });\n",
    "</script>\n",
    "<form action=\"javascript:code_toggle()\"><input type=\"submit\" id=\"toggleButton\" value=\"Show Code\"></form>"
   ]
  },
  {
   "cell_type": "code",
   "execution_count": 1,
   "metadata": {
    "collapsed": true
   },
   "outputs": [],
   "source": [
    "import pandas as pd\n",
    "from pandas import ExcelWriter\n",
    "import numpy as np\n",
    "from scipy import stats\n",
    "import glob"
   ]
  },
  {
   "cell_type": "code",
   "execution_count": 9,
   "metadata": {
    "collapsed": true
   },
   "outputs": [],
   "source": [
    "#Import only the below columns from the Shortfall file:\n",
    "column_names = ['GFCID','GFPID','GFPID Name','Customer Number','Customer Name','Billable Entity','Account Number',\n",
    "                'Account Name','Bill Period','Account Category','Waive Flag','Account Type','Dep Assmt Eligible',\n",
    "                'ECR Average Available Balance','Earnings Credit Rate %','Earnings Credits Earned','Gross Fees']"
   ]
  },
  {
   "cell_type": "code",
   "execution_count": 10,
   "metadata": {
    "collapsed": true
   },
   "outputs": [],
   "source": [
    "month = '01'\n",
    "year = '2018'\n",
    "path = year+month"
   ]
  },
  {
   "cell_type": "code",
   "execution_count": 11,
   "metadata": {
    "collapsed": false
   },
   "outputs": [],
   "source": [
    "#Read in data for US Balances and ECR:\n",
    "US_Shortfall = pd.read_excel(path+\"_US Shortfall.xlsx\", skiprows=1, usecols=column_names)"
   ]
  },
  {
   "cell_type": "code",
   "execution_count": 12,
   "metadata": {
    "collapsed": false
   },
   "outputs": [],
   "source": [
    "#Import only the below columns from the Fee files (Billed Metrics):\n",
    "billedMetricsColumns = ['REGION','BRANCH','ULTIMATE_PARENT_NAME','PRIMARY_CUSTOMER_NUMBER','PRIMARY_CUSTOMER_NAME',\n",
    "                        'IGA_ACCOUNT','ACCOUNT_NUMBER','ACCOUNT_NAME','GFCID','GFPID','SERVICE_CODE',\n",
    "                        'SERVICE_DESCRIPTION','CHARGE_CODE','CHARGE_CODE_DESCRIPTION','TRANSOUC','BILL_PERIOD',\n",
    "                        'PRICE_METHOD','CHARGE_AMOUNT_IIC','INVOICE_CCY','TAX_AMOUNT_VAT_IIC','TAX_AMOUNT_STAMP_IIC']"
   ]
  },
  {
   "cell_type": "code",
   "execution_count": 14,
   "metadata": {
    "collapsed": false
   },
   "outputs": [],
   "source": [
    "#Import Fee data into separate dataframes to be merged later.\n",
    "NAM_Fees = pd.read_excel(path+\"_NAM Billed Metrics.xlsx\", usecols=billedMetricsColumns)\n",
    "Worldlink_Fees = pd.read_excel(path+\"_WL Billed Metrics.xlsx\", usecols=billedMetricsColumns)\n",
    "Mexico_Fees = pd.read_excel(path+\"_Mexico Billed Metrics.xlsx\", usecols=billedMetricsColumns)\n"
   ]
  },
  {
   "cell_type": "code",
   "execution_count": 15,
   "metadata": {
    "collapsed": true
   },
   "outputs": [],
   "source": [
    "CEEMEA_Fees = pd.read_excel(path+\"_UAE Billed Metrics.xlsx\", usecols=billedMetricsColumns)\n",
    "WEUR_Fees = pd.read_excel(path+\"_WEUR Billed Metrics.xlsx\", usecols=billedMetricsColumns)"
   ]
  },
  {
   "cell_type": "code",
   "execution_count": 16,
   "metadata": {
    "collapsed": true
   },
   "outputs": [],
   "source": [
    "#Get Expired Credits for NAM\n",
    "NAM_ExpiredCredits = NAM_Fees[NAM_Fees.PRICE_METHOD.str.contains(\"EC Expiration\") == True]"
   ]
  },
  {
   "cell_type": "code",
   "execution_count": 17,
   "metadata": {
    "collapsed": false
   },
   "outputs": [
    {
     "data": {
      "text/html": [
       "<div>\n",
       "<table border=\"1\" class=\"dataframe\">\n",
       "  <thead>\n",
       "    <tr style=\"text-align: right;\">\n",
       "      <th></th>\n",
       "      <th>GFPID</th>\n",
       "      <th>CHARGE_AMOUNT_IIC</th>\n",
       "    </tr>\n",
       "  </thead>\n",
       "  <tbody>\n",
       "    <tr>\n",
       "      <th>0</th>\n",
       "      <td>2887</td>\n",
       "      <td>928.54</td>\n",
       "    </tr>\n",
       "    <tr>\n",
       "      <th>1</th>\n",
       "      <td>6769</td>\n",
       "      <td>1707.58</td>\n",
       "    </tr>\n",
       "    <tr>\n",
       "      <th>2</th>\n",
       "      <td>15067</td>\n",
       "      <td>86.67</td>\n",
       "    </tr>\n",
       "    <tr>\n",
       "      <th>3</th>\n",
       "      <td>19542</td>\n",
       "      <td>146.99</td>\n",
       "    </tr>\n",
       "    <tr>\n",
       "      <th>4</th>\n",
       "      <td>23191</td>\n",
       "      <td>2613.61</td>\n",
       "    </tr>\n",
       "  </tbody>\n",
       "</table>\n",
       "</div>"
      ],
      "text/plain": [
       "   GFPID  CHARGE_AMOUNT_IIC\n",
       "0   2887             928.54\n",
       "1   6769            1707.58\n",
       "2  15067              86.67\n",
       "3  19542             146.99\n",
       "4  23191            2613.61"
      ]
     },
     "execution_count": 17,
     "metadata": {},
     "output_type": "execute_result"
    }
   ],
   "source": [
    "#Pivot Expiration by GFPID:\n",
    "Expiration_Append = pd.pivot_table(NAM_ExpiredCredits,\n",
    "                          index=[\"GFPID\"],\n",
    "                          values=[\"CHARGE_AMOUNT_IIC\"],\n",
    "                             aggfunc = np.sum)\n",
    "Expiration_Append.reset_index(inplace=True)\n",
    "\n",
    "Expiration_Append.head()"
   ]
  },
  {
   "cell_type": "code",
   "execution_count": 18,
   "metadata": {
    "collapsed": true
   },
   "outputs": [],
   "source": [
    "#Remove ECR transactions from Billed Metrics files\n",
    "Worldlink_Fees = Worldlink_Fees[Worldlink_Fees.PRICE_METHOD.str.contains(\"EC\") == False]\n",
    "Worldlink_Fees = Worldlink_Fees[Worldlink_Fees.PRICE_METHOD.str.contains(\"Earn Cred\") == False]"
   ]
  },
  {
   "cell_type": "code",
   "execution_count": 19,
   "metadata": {
    "collapsed": true
   },
   "outputs": [],
   "source": [
    "#Remove ECR transactions from Billed Metrics files\n",
    "CEEMEA_Fees = CEEMEA_Fees[CEEMEA_Fees.PRICE_METHOD.str.contains(\"EC\") == False]\n",
    "CEEMEA_Fees = CEEMEA_Fees[CEEMEA_Fees.PRICE_METHOD.str.contains(\"Earn Cred\") == False]"
   ]
  },
  {
   "cell_type": "code",
   "execution_count": 20,
   "metadata": {
    "collapsed": true
   },
   "outputs": [],
   "source": [
    "#Remove ECR transactions from Billed Metrics files\n",
    "Mexico_Fees = Mexico_Fees[Mexico_Fees.PRICE_METHOD.str.contains(\"EC\") == False]\n",
    "Mexico_Fees = Mexico_Fees[Mexico_Fees.PRICE_METHOD.str.contains(\"Earn Cred\") == False]"
   ]
  },
  {
   "cell_type": "code",
   "execution_count": 21,
   "metadata": {
    "collapsed": true
   },
   "outputs": [],
   "source": [
    "#Remove ECR transactions from Billed Metrics files\n",
    "WEUR_Fees = WEUR_Fees[WEUR_Fees.PRICE_METHOD.str.contains(\"EC\") == False]\n",
    "WEUR_Fees = WEUR_Fees[WEUR_Fees.PRICE_METHOD.str.contains(\"Earn Cred\") == False]"
   ]
  },
  {
   "cell_type": "code",
   "execution_count": 22,
   "metadata": {
    "collapsed": true
   },
   "outputs": [],
   "source": [
    "#Load Exchange Rates for USD equivalent calculations\n",
    "dfRate=pd.read_excel(\"Exchange Rates.xlsx\")"
   ]
  },
  {
   "cell_type": "code",
   "execution_count": 23,
   "metadata": {
    "collapsed": false
   },
   "outputs": [],
   "source": [
    "#Get unique Customer Numbers from Shortfall file to map GFPID. Will be used for WEUR Sharing GFPID Mapping \n",
    "Customer_GFPID = pd.pivot_table(US_Shortfall,\n",
    "                          index=[\"Customer Number\", \"GFPID\"],\n",
    "                               values = [\"Gross Fees\"])\n",
    "Customer_GFPID.reset_index(inplace=True)"
   ]
  },
  {
   "cell_type": "code",
   "execution_count": 24,
   "metadata": {
    "collapsed": false
   },
   "outputs": [
    {
     "data": {
      "text/html": [
       "<div>\n",
       "<table border=\"1\" class=\"dataframe\">\n",
       "  <thead>\n",
       "    <tr style=\"text-align: right;\">\n",
       "      <th></th>\n",
       "      <th>Customer Number</th>\n",
       "      <th>GFPID</th>\n",
       "    </tr>\n",
       "  </thead>\n",
       "  <tbody>\n",
       "    <tr>\n",
       "      <th>0</th>\n",
       "      <td>10138</td>\n",
       "      <td>208817</td>\n",
       "    </tr>\n",
       "    <tr>\n",
       "      <th>1</th>\n",
       "      <td>11983</td>\n",
       "      <td>1001601233</td>\n",
       "    </tr>\n",
       "    <tr>\n",
       "      <th>2</th>\n",
       "      <td>14354</td>\n",
       "      <td>14354</td>\n",
       "    </tr>\n",
       "    <tr>\n",
       "      <th>3</th>\n",
       "      <td>19224</td>\n",
       "      <td>19224</td>\n",
       "    </tr>\n",
       "    <tr>\n",
       "      <th>4</th>\n",
       "      <td>24793</td>\n",
       "      <td>1001343056</td>\n",
       "    </tr>\n",
       "  </tbody>\n",
       "</table>\n",
       "</div>"
      ],
      "text/plain": [
       "  Customer Number       GFPID\n",
       "0           10138      208817\n",
       "1           11983  1001601233\n",
       "2           14354       14354\n",
       "3           19224       19224\n",
       "4           24793  1001343056"
      ]
     },
     "execution_count": 24,
     "metadata": {},
     "output_type": "execute_result"
    }
   ],
   "source": [
    "Customer_GFPID = Customer_GFPID.drop([\"Gross Fees\"], axis=1)\n",
    "Customer_GFPID.head()"
   ]
  },
  {
   "cell_type": "code",
   "execution_count": 26,
   "metadata": {
    "collapsed": true
   },
   "outputs": [],
   "source": [
    "#Load Sharing file\n",
    "US_Sharing_To_WEUR = pd.read_excel(path+\"_EC Sharing.xlsx\", skiprows=1)"
   ]
  },
  {
   "cell_type": "code",
   "execution_count": 27,
   "metadata": {
    "collapsed": false
   },
   "outputs": [],
   "source": [
    "#Rename column for distinct value and filter for WEUR Sharing only:\n",
    "US_Sharing_To_WEUR = US_Sharing_To_WEUR.rename(index=str, columns={\"Region.1\": \"RegionTo\"})\n",
    "US_Sharing_To_WEUR = US_Sharing_To_WEUR[US_Sharing_To_WEUR.RegionTo.str.contains(\"Western Europe\") == True]"
   ]
  },
  {
   "cell_type": "code",
   "execution_count": 28,
   "metadata": {
    "collapsed": false
   },
   "outputs": [],
   "source": [
    "Sharing_Append = pd.pivot_table(US_Sharing_To_WEUR,\n",
    "                          index=[\"Main Customer ID\"],\n",
    "                          values=[\"USDE.1\"],\n",
    "                             aggfunc = np.sum)\n",
    "Sharing_Append.reset_index(inplace=True)"
   ]
  },
  {
   "cell_type": "code",
   "execution_count": 29,
   "metadata": {
    "collapsed": false
   },
   "outputs": [
    {
     "data": {
      "text/html": [
       "<div>\n",
       "<table border=\"1\" class=\"dataframe\">\n",
       "  <thead>\n",
       "    <tr style=\"text-align: right;\">\n",
       "      <th></th>\n",
       "      <th>Main Customer ID</th>\n",
       "      <th>USDE.1</th>\n",
       "    </tr>\n",
       "  </thead>\n",
       "  <tbody>\n",
       "    <tr>\n",
       "      <th>0</th>\n",
       "      <td>1000089962</td>\n",
       "      <td>-1838.71</td>\n",
       "    </tr>\n",
       "    <tr>\n",
       "      <th>1</th>\n",
       "      <td>1000170921</td>\n",
       "      <td>-10000.00</td>\n",
       "    </tr>\n",
       "    <tr>\n",
       "      <th>2</th>\n",
       "      <td>1000370807</td>\n",
       "      <td>-1368.11</td>\n",
       "    </tr>\n",
       "    <tr>\n",
       "      <th>3</th>\n",
       "      <td>1001723223</td>\n",
       "      <td>-2752.28</td>\n",
       "    </tr>\n",
       "    <tr>\n",
       "      <th>4</th>\n",
       "      <td>1002258699</td>\n",
       "      <td>-855.38</td>\n",
       "    </tr>\n",
       "  </tbody>\n",
       "</table>\n",
       "</div>"
      ],
      "text/plain": [
       "  Main Customer ID    USDE.1\n",
       "0       1000089962  -1838.71\n",
       "1       1000170921 -10000.00\n",
       "2       1000370807  -1368.11\n",
       "3       1001723223  -2752.28\n",
       "4       1002258699   -855.38"
      ]
     },
     "execution_count": 29,
     "metadata": {},
     "output_type": "execute_result"
    }
   ],
   "source": [
    "Sharing_Append.head()"
   ]
  },
  {
   "cell_type": "code",
   "execution_count": 30,
   "metadata": {
    "collapsed": true
   },
   "outputs": [],
   "source": [
    "#Merge GFPID to merge with fee data:\n",
    "Sharing_Append_GFPID = pd.merge(Sharing_Append,Customer_GFPID, how='left', left_on='Main Customer ID', \n",
    "                                right_on='Customer Number')\n"
   ]
  },
  {
   "cell_type": "code",
   "execution_count": 31,
   "metadata": {
    "collapsed": false
   },
   "outputs": [
    {
     "data": {
      "text/html": [
       "<div>\n",
       "<table border=\"1\" class=\"dataframe\">\n",
       "  <thead>\n",
       "    <tr style=\"text-align: right;\">\n",
       "      <th></th>\n",
       "      <th>GFPID</th>\n",
       "      <th>USDE.1</th>\n",
       "    </tr>\n",
       "  </thead>\n",
       "  <tbody>\n",
       "    <tr>\n",
       "      <th>0</th>\n",
       "      <td>2887</td>\n",
       "      <td>-52136.77</td>\n",
       "    </tr>\n",
       "    <tr>\n",
       "      <th>1</th>\n",
       "      <td>23191</td>\n",
       "      <td>-17888.69</td>\n",
       "    </tr>\n",
       "    <tr>\n",
       "      <th>2</th>\n",
       "      <td>105392</td>\n",
       "      <td>-1661.00</td>\n",
       "    </tr>\n",
       "    <tr>\n",
       "      <th>3</th>\n",
       "      <td>153257</td>\n",
       "      <td>-450.76</td>\n",
       "    </tr>\n",
       "    <tr>\n",
       "      <th>4</th>\n",
       "      <td>236098</td>\n",
       "      <td>-120.00</td>\n",
       "    </tr>\n",
       "  </tbody>\n",
       "</table>\n",
       "</div>"
      ],
      "text/plain": [
       "    GFPID    USDE.1\n",
       "0    2887 -52136.77\n",
       "1   23191 -17888.69\n",
       "2  105392  -1661.00\n",
       "3  153257   -450.76\n",
       "4  236098   -120.00"
      ]
     },
     "execution_count": 31,
     "metadata": {},
     "output_type": "execute_result"
    }
   ],
   "source": [
    "#Pivot Sharing by GFPID, removing by customer:\n",
    "Sharing_Append_GFPID = pd.pivot_table(Sharing_Append_GFPID,\n",
    "                          index=[\"GFPID\"],\n",
    "                          values=[\"USDE.1\"],\n",
    "                             aggfunc = np.sum)\n",
    "Sharing_Append_GFPID.reset_index(inplace=True)\n",
    "\n",
    "Sharing_Append_GFPID.head()"
   ]
  },
  {
   "cell_type": "code",
   "execution_count": 32,
   "metadata": {
    "collapsed": false
   },
   "outputs": [
    {
     "data": {
      "text/html": [
       "<div>\n",
       "<table border=\"1\" class=\"dataframe\">\n",
       "  <thead>\n",
       "    <tr style=\"text-align: right;\">\n",
       "      <th></th>\n",
       "      <th>GFPID</th>\n",
       "      <th>US Sharing to WEUR</th>\n",
       "    </tr>\n",
       "  </thead>\n",
       "  <tbody>\n",
       "  </tbody>\n",
       "</table>\n",
       "</div>"
      ],
      "text/plain": [
       "Empty DataFrame\n",
       "Columns: [GFPID, US Sharing to WEUR]\n",
       "Index: []"
      ]
     },
     "execution_count": 32,
     "metadata": {},
     "output_type": "execute_result"
    }
   ],
   "source": [
    "#Rename Column\n",
    "Sharing_Append_GFPID = Sharing_Append_GFPID.rename(index=str, columns={\"USDE.1\": \"US Sharing to WEUR\"})\n",
    "Sharing_Append_GFPID[(Sharing_Append_GFPID.GFPID == 130656)]"
   ]
  },
  {
   "cell_type": "code",
   "execution_count": 35,
   "metadata": {
    "collapsed": false
   },
   "outputs": [],
   "source": [
    "#Renaming Columns that require filtering (can't have spaces)\n",
    "US_Shortfall = US_Shortfall.rename(index=str, columns={\"Account Type\": \"AccountType\",\n",
    "                                                       \"Account Category\": \"AccountCategory\" })\n",
    "\n",
    "#Build pivot just for balances, ECR amounts and rates. Will bring in Total Fees for each region next\n",
    "US_ECR = pd.pivot_table(US_Shortfall[(US_Shortfall.AccountType == \"Balance\") & \n",
    "                                     (US_Shortfall.AccountCategory == \"Third Party\")],\n",
    "                          index=[\"GFPID\"],\n",
    "                          values=[\"ECR Average Available Balance\",\"Earnings Credit Rate %\",\"Earnings Credits Earned\",\n",
    "                                 \"Gross Fees\",\"Net Fees\"],\n",
    "                          aggfunc={\"ECR Average Available Balance\":np.sum,'Earnings Credit Rate %':stats.mode,\n",
    "                                   'Earnings Credits Earned':np.sum})\n",
    "\n",
    "US_ECR.reset_index(inplace=True) #Resetting the index so merge functions (VLOOKUPS) will work"
   ]
  },
  {
   "cell_type": "code",
   "execution_count": 36,
   "metadata": {
    "collapsed": true
   },
   "outputs": [],
   "source": [
    "US_Append = pd.pivot_table(US_Shortfall,\n",
    "                          index=[\"GFPID\"],\n",
    "                          values=[\"Gross Fees\"],\n",
    "                             aggfunc = np.sum)\n",
    "\n",
    "US_Append.reset_index(inplace=True)"
   ]
  },
  {
   "cell_type": "code",
   "execution_count": 37,
   "metadata": {
    "collapsed": false
   },
   "outputs": [],
   "source": [
    "WEUR_Fees = pd.merge(WEUR_Fees, dfRate, how='left', left_on=['INVOICE_CCY'], right_on=['CCY'])\n",
    "WEUR_Fees[\"WEUR_Fees_USDE\"] = WEUR_Fees[\"CHARGE_AMOUNT_IIC\"] * WEUR_Fees[\"Rate\"]\n",
    "\n",
    "WEUR_Append = pd.pivot_table(WEUR_Fees,\n",
    "                          index=[\"GFPID\"],\n",
    "                          values=[\"WEUR_Fees_USDE\"],\n",
    "                             aggfunc = np.sum)\n",
    "\n",
    "WEUR_Append.reset_index(inplace=True)"
   ]
  },
  {
   "cell_type": "code",
   "execution_count": 38,
   "metadata": {
    "collapsed": false
   },
   "outputs": [],
   "source": [
    "Worldlink_Fees = pd.merge(Worldlink_Fees, dfRate, how='left', left_on=['INVOICE_CCY'], right_on=['CCY'])\n",
    "Worldlink_Fees[\"Worldlink_Fees_USDE\"] = Worldlink_Fees[\"CHARGE_AMOUNT_IIC\"] * Worldlink_Fees[\"Rate\"]\n",
    "\n",
    "Worldlink_Append = pd.pivot_table(Worldlink_Fees,\n",
    "                          index=[\"GFPID\"],\n",
    "                          values=[\"Worldlink_Fees_USDE\"],\n",
    "                             aggfunc = np.sum)\n",
    "\n",
    "Worldlink_Append.reset_index(inplace=True)"
   ]
  },
  {
   "cell_type": "code",
   "execution_count": 39,
   "metadata": {
    "collapsed": true
   },
   "outputs": [],
   "source": [
    "CEEMEA_Fees = pd.merge(CEEMEA_Fees, dfRate, how='left', left_on=['INVOICE_CCY'], right_on=['CCY'])\n",
    "CEEMEA_Fees[\"CEEMEA_Fees_USDE\"] = CEEMEA_Fees[\"CHARGE_AMOUNT_IIC\"] * CEEMEA_Fees[\"Rate\"]\n",
    "\n",
    "CEEMEA_Append = pd.pivot_table(CEEMEA_Fees,\n",
    "                          index=[\"GFPID\"],\n",
    "                          values=[\"CEEMEA_Fees_USDE\"],\n",
    "                             aggfunc = np.sum)\n",
    "\n",
    "CEEMEA_Append.reset_index(inplace=True)"
   ]
  },
  {
   "cell_type": "code",
   "execution_count": 40,
   "metadata": {
    "collapsed": true
   },
   "outputs": [],
   "source": [
    "Mexico_Fees = pd.merge(Mexico_Fees, dfRate, how='left', left_on=['INVOICE_CCY'], right_on=['CCY'])\n",
    "Mexico_Fees[\"Mexico_Fees_USDE\"] = Mexico_Fees[\"CHARGE_AMOUNT_IIC\"] * Mexico_Fees[\"Rate\"]\n",
    "\n",
    "Mexico_Append = pd.pivot_table(Mexico_Fees,\n",
    "                          index=[\"GFPID\"],\n",
    "                          values=[\"Mexico_Fees_USDE\"],\n",
    "                             aggfunc = np.sum)\n",
    "\n",
    "Mexico_Append.reset_index(inplace=True)"
   ]
  },
  {
   "cell_type": "code",
   "execution_count": 41,
   "metadata": {
    "collapsed": false
   },
   "outputs": [],
   "source": [
    "result = pd.merge(US_ECR,US_Append, how='left', left_on='GFPID', right_on='GFPID')\n",
    "result = pd.merge(result,Expiration_Append, how='left', left_on='GFPID', right_on='GFPID')\n",
    "result = pd.merge(result,WEUR_Append, how='left', left_on='GFPID', right_on='GFPID')\n",
    "result = pd.merge(result,Worldlink_Append, how='left', left_on='GFPID', right_on='GFPID')\n",
    "result = pd.merge(result,CEEMEA_Append, how='left', left_on='GFPID', right_on='GFPID')\n",
    "result = pd.merge(result,Mexico_Append, how='left', left_on='GFPID', right_on='GFPID')\n",
    "result = pd.merge(result,Sharing_Append_GFPID, how='left', left_on='GFPID', right_on='GFPID')"
   ]
  },
  {
   "cell_type": "code",
   "execution_count": 42,
   "metadata": {
    "collapsed": false,
    "scrolled": true
   },
   "outputs": [],
   "source": [
    "result = result.rename(index=str, columns={\"Gross Fees\": \"US Fees_USD\"})"
   ]
  },
  {
   "cell_type": "code",
   "execution_count": 43,
   "metadata": {
    "collapsed": true
   },
   "outputs": [],
   "source": [
    "result = result.rename(index=str, columns={\"CHARGE_AMOUNT_IIC\": \"Expired Credits\"})"
   ]
  },
  {
   "cell_type": "code",
   "execution_count": 44,
   "metadata": {
    "collapsed": false
   },
   "outputs": [],
   "source": [
    "result = result.fillna(0)"
   ]
  },
  {
   "cell_type": "code",
   "execution_count": 31,
   "metadata": {
    "collapsed": true
   },
   "outputs": [],
   "source": [
    "#result[\"Shortfall / (Longfall)\"] = result[\"Earnings Credits Earned\"]+result[\"US Fees_USD\"]-result[\"US Sharing to WEUR\"]"
   ]
  },
  {
   "cell_type": "code",
   "execution_count": 45,
   "metadata": {
    "collapsed": false
   },
   "outputs": [
    {
     "data": {
      "text/html": [
       "<div>\n",
       "<table border=\"1\" class=\"dataframe\">\n",
       "  <thead>\n",
       "    <tr style=\"text-align: right;\">\n",
       "      <th></th>\n",
       "      <th>GFPID</th>\n",
       "      <th>ECR Average Available Balance</th>\n",
       "      <th>Earnings Credit Rate %</th>\n",
       "      <th>Earnings Credits Earned</th>\n",
       "      <th>US Fees_USD</th>\n",
       "      <th>Expired Credits</th>\n",
       "      <th>WEUR_Fees_USDE</th>\n",
       "      <th>Worldlink_Fees_USDE</th>\n",
       "      <th>CEEMEA_Fees_USDE</th>\n",
       "      <th>Mexico_Fees_USDE</th>\n",
       "      <th>US Sharing to WEUR</th>\n",
       "    </tr>\n",
       "  </thead>\n",
       "  <tbody>\n",
       "    <tr>\n",
       "      <th>0</th>\n",
       "      <td>0</td>\n",
       "      <td>5079128</td>\n",
       "      <td>([0.0007], [57])</td>\n",
       "      <td>-138.53</td>\n",
       "      <td>439455.89</td>\n",
       "      <td>0.00</td>\n",
       "      <td>18.607500</td>\n",
       "      <td>0.000000</td>\n",
       "      <td>0.000000</td>\n",
       "      <td>0</td>\n",
       "      <td>0.00</td>\n",
       "    </tr>\n",
       "    <tr>\n",
       "      <th>1</th>\n",
       "      <td>1864</td>\n",
       "      <td>5416</td>\n",
       "      <td>([0.0025], [1])</td>\n",
       "      <td>-1.15</td>\n",
       "      <td>292.55</td>\n",
       "      <td>0.00</td>\n",
       "      <td>0.000000</td>\n",
       "      <td>0.000000</td>\n",
       "      <td>0.000000</td>\n",
       "      <td>0</td>\n",
       "      <td>0.00</td>\n",
       "    </tr>\n",
       "    <tr>\n",
       "      <th>2</th>\n",
       "      <td>2887</td>\n",
       "      <td>694448013</td>\n",
       "      <td>([0.0125], [622])</td>\n",
       "      <td>-737256.50</td>\n",
       "      <td>642182.35</td>\n",
       "      <td>928.54</td>\n",
       "      <td>5661.879691</td>\n",
       "      <td>194054.105384</td>\n",
       "      <td>50084.840647</td>\n",
       "      <td>0</td>\n",
       "      <td>-52136.77</td>\n",
       "    </tr>\n",
       "    <tr>\n",
       "      <th>3</th>\n",
       "      <td>4197</td>\n",
       "      <td>0</td>\n",
       "      <td>([0.0], [1])</td>\n",
       "      <td>0.00</td>\n",
       "      <td>0.00</td>\n",
       "      <td>0.00</td>\n",
       "      <td>0.000000</td>\n",
       "      <td>0.000000</td>\n",
       "      <td>0.000000</td>\n",
       "      <td>0</td>\n",
       "      <td>0.00</td>\n",
       "    </tr>\n",
       "    <tr>\n",
       "      <th>4</th>\n",
       "      <td>6769</td>\n",
       "      <td>115094602</td>\n",
       "      <td>([0.0035], [21])</td>\n",
       "      <td>-34213.06</td>\n",
       "      <td>38361.15</td>\n",
       "      <td>1707.58</td>\n",
       "      <td>17699.818127</td>\n",
       "      <td>121.600000</td>\n",
       "      <td>0.000000</td>\n",
       "      <td>0</td>\n",
       "      <td>0.00</td>\n",
       "    </tr>\n",
       "  </tbody>\n",
       "</table>\n",
       "</div>"
      ],
      "text/plain": [
       "   GFPID  ECR Average Available Balance Earnings Credit Rate %  \\\n",
       "0      0                        5079128       ([0.0007], [57])   \n",
       "1   1864                           5416        ([0.0025], [1])   \n",
       "2   2887                      694448013      ([0.0125], [622])   \n",
       "3   4197                              0           ([0.0], [1])   \n",
       "4   6769                      115094602       ([0.0035], [21])   \n",
       "\n",
       "   Earnings Credits Earned  US Fees_USD  Expired Credits  WEUR_Fees_USDE  \\\n",
       "0                  -138.53    439455.89             0.00       18.607500   \n",
       "1                    -1.15       292.55             0.00        0.000000   \n",
       "2               -737256.50    642182.35           928.54     5661.879691   \n",
       "3                     0.00         0.00             0.00        0.000000   \n",
       "4                -34213.06     38361.15          1707.58    17699.818127   \n",
       "\n",
       "   Worldlink_Fees_USDE  CEEMEA_Fees_USDE  Mexico_Fees_USDE  US Sharing to WEUR  \n",
       "0             0.000000          0.000000                 0                0.00  \n",
       "1             0.000000          0.000000                 0                0.00  \n",
       "2        194054.105384      50084.840647                 0           -52136.77  \n",
       "3             0.000000          0.000000                 0                0.00  \n",
       "4           121.600000          0.000000                 0                0.00  "
      ]
     },
     "execution_count": 45,
     "metadata": {},
     "output_type": "execute_result"
    }
   ],
   "source": [
    "result.head()"
   ]
  },
  {
   "cell_type": "code",
   "execution_count": 46,
   "metadata": {
    "collapsed": false
   },
   "outputs": [],
   "source": [
    "writer = ExcelWriter(path+'_Consolidated Fees by GFPID.xlsx')\n",
    "result.to_excel(writer,'ECR Top Up', index=False)\n",
    "writer.save()"
   ]
  },
  {
   "cell_type": "code",
   "execution_count": 36,
   "metadata": {
    "collapsed": false
   },
   "outputs": [],
   "source": [
    "\n",
    "#for i, row in Worldlink_Append.iterrows():\n",
    "#    Worldlink_Append.iloc[i,0]= Worldlink_Append.iloc[i,0].lstrip(\"0\")\n",
    "#Worldlink_Append1 = Worldlink_Append.set_index(\"GFPID\")"
   ]
  },
  {
   "cell_type": "code",
   "execution_count": null,
   "metadata": {
    "collapsed": true
   },
   "outputs": [],
   "source": []
  }
 ],
 "metadata": {
  "kernelspec": {
   "display_name": "Python 3",
   "language": "python",
   "name": "python3"
  },
  "language_info": {
   "codemirror_mode": {
    "name": "ipython",
    "version": 3
   },
   "file_extension": ".py",
   "mimetype": "text/x-python",
   "name": "python",
   "nbconvert_exporter": "python",
   "pygments_lexer": "ipython3",
   "version": "3.5.1"
  }
 },
 "nbformat": 4,
 "nbformat_minor": 0
}
